{
 "cells": [
  {
   "cell_type": "markdown",
   "metadata": {},
   "source": [
    "## Pregunta 3"
   ]
  },
  {
   "cell_type": "code",
   "execution_count": 1,
   "metadata": {},
   "outputs": [],
   "source": [
    "import numpy as np\n",
    "import matplotlib.pyplot as plt\n",
    "from scipy import optimize"
   ]
  },
  {
   "cell_type": "code",
   "execution_count": 2,
   "metadata": {},
   "outputs": [],
   "source": [
    "def f(x: float, points: list[float] = [], show: bool = False):\n",
    "    y = x**3-3*x**2+x-1\n",
    "    points.append((x, y))\n",
    "    if show:\n",
    "        print(f\"f({x}) = {y}\")\n",
    "    return y"
   ]
  },
  {
   "cell_type": "code",
   "execution_count": 3,
   "metadata": {},
   "outputs": [
    {
     "name": "stdout",
     "output_type": "stream",
     "text": [
      "f(1.8164965809277258) = -3.088662107903635\n",
      "f(-1.2721655269759093) = -9.186260123609163\n",
      "f(-0.5365708185899154) = -2.554778710496339\n",
      "f(0.0891174208150981) = -0.9340005603093576\n",
      "f(-1.7391060157193774) = -17.07248350818005\n",
      "f(-0.8639578017287204) = -4.748105097325822\n",
      "f(-0.22431145595413238) = -1.38654471583023\n",
      "f(0.7020182095189987) = -1.4304951601000542\n",
      "f(0.17872131079258058) = -0.9113940177584627\n",
      "f(-0.7546021267568418) = -3.892564076281971\n",
      "f(-0.13038222317882875) = -1.1835972312898755\n",
      "f(1.2900050565320815) = -2.5556198372788743\n",
      "f(0.3599078768234325) = -0.982072970901438\n",
      "f(-0.19467047049704256) = -1.3157375941587994\n",
      "f(0.8318760384054125) = -1.6685042126335712\n",
      "f(0.2595302318586319) = -0.9250566888378495\n",
      "f(-0.4231112168640886) = -2.0359272048374204\n",
      "f(0.23882036739673718) = -0.9186639765053253\n",
      "f(-0.48922830716426136) = -2.324355341347009\n",
      "f(0.14698823810581374) = -0.9146526277458475\n",
      "f(-0.9723830717934384) = -5.728385822990358\n",
      "f(-0.3117370294495774) = -1.6335715529334367\n",
      "f(0.443859727056623) = -1.0597291931862771\n",
      "f(-0.06756198230047517) = -1.0815642415313578\n",
      "f(2.513331876172489) = -1.560871393437119\n",
      "f(2.9166036205827135) = 1.2071859242688676\n",
      "f(2.766083717757078) = -0.023661016610094343\n",
      "f(2.7698056682614807) = 0.003795398290095342\n",
      "f(2.7692123254315897) = -0.0005914738281864729\n",
      "f(2.7693048829681706) = 9.260300735558502e-05\n",
      "f(2.769290394096169) = -1.448775772949773e-05\n",
      "f(2.7692926609374418) = 2.2668685453197668e-06\n",
      "f(2.769292306250959) = -3.546858149405807e-07\n",
      "f(2.769292361747048) = 5.54961050447389e-08\n"
     ]
    },
    {
     "data": {
      "text/plain": [
       "      converged: True\n",
       "           flag: converged\n",
       " function_calls: 68\n",
       "     iterations: 34\n",
       "           root: 2.7692923530638236\n",
       "         method: newton"
      ]
     },
     "execution_count": 3,
     "metadata": {},
     "output_type": "execute_result"
    }
   ],
   "source": [
    "x0 = 1+(((6)**(1/2))/3)\n",
    "points = []\n",
    "fder=lambda x, *args: 3*x**2-6*x\n",
    "x_r,alg_info = optimize.newton(f, x0,fprime= fder, args=(points, True), maxiter=100,disp=False,full_output=True)\n",
    "alg_info"
   ]
  },
  {
   "cell_type": "markdown",
   "metadata": {},
   "source": [
    "## Pregunta 4"
   ]
  },
  {
   "cell_type": "code",
   "execution_count": 4,
   "metadata": {},
   "outputs": [],
   "source": [
    "def secant_method(f, x0, x1, tol=1e-6, max_iter=100):    \n",
    "    f_x_prev = f(x0)\n",
    "    f_x_curr = f(x1)\n",
    "    x_prev = x0\n",
    "    x_curr = x1\n",
    "    iter_count = 0\n",
    "\n",
    "    while abs(f_x_curr) > tol and iter_count < max_iter:\n",
    "        # Calculate the next approximation using the secant method formula\n",
    "        x_next = x_curr - f_x_curr * (x_curr - x_prev) / (f_x_curr - f_x_prev)\n",
    "\n",
    "        # Update variables for the next iteration\n",
    "        x_prev = x_curr\n",
    "        f_x_prev = f_x_curr\n",
    "        x_curr = x_next\n",
    "        f_x_curr = f(x_curr)\n",
    "        \n",
    "        iter_count += 1\n",
    "\n",
    "    return x_curr, iter_count"
   ]
  },
  {
   "cell_type": "markdown",
   "metadata": {},
   "source": [
    "### Ejemplo 1"
   ]
  },
  {
   "cell_type": "code",
   "execution_count": 5,
   "metadata": {},
   "outputs": [
    {
     "name": "stdout",
     "output_type": "stream",
     "text": [
      "Llamada i=1\t x=2.00000\t y=-3.00\n",
      "Llamada i=2\t x=3.00000\t y=2.00\n",
      "Llamada i=3\t x=2.60000\t y=-1.10\n",
      "Llamada i=4\t x=2.74227\t y=-0.20\n",
      "Llamada i=5\t x=2.77296\t y=0.03\n",
      "Llamada i=6\t x=2.76922\t y=-0.00\n",
      "Llamada i=7\t x=2.76929\t y=-0.00\n",
      "Llamada i=8\t x=2.76929\t y=0.00\n"
     ]
    },
    {
     "data": {
      "text/plain": [
       "(2.7692923542484045, 6)"
      ]
     },
     "execution_count": 5,
     "metadata": {},
     "output_type": "execute_result"
    }
   ],
   "source": [
    "i = 0\n",
    "\n",
    "\n",
    "def func(x):\n",
    "    global i\n",
    "    i += 1\n",
    "    y = x**3 - 3 * x**2 + x - 1\n",
    "    print(f\"Llamada i={i}\\t x={x:.5f}\\t y={y:.2f}\")\n",
    "    return y\n",
    "\n",
    "\n",
    "secant_method(func, x0=2, x1=3)"
   ]
  },
  {
   "cell_type": "markdown",
   "metadata": {},
   "source": [
    "### Ejemplo 2"
   ]
  },
  {
   "cell_type": "code",
   "execution_count": 6,
   "metadata": {},
   "outputs": [
    {
     "name": "stdout",
     "output_type": "stream",
     "text": [
      "Llamada i=1\t x=2.00000\t y=1.41\n",
      "Llamada i=2\t x=3.00000\t y=0.64\n",
      "Llamada i=3\t x=3.83460\t y=-0.14\n",
      "Llamada i=4\t x=3.68602\t y=-0.02\n",
      "Llamada i=5\t x=3.66399\t y=0.00\n",
      "Llamada i=6\t x=3.66520\t y=-0.00\n",
      "Llamada i=7\t x=3.66519\t y=-0.00\n"
     ]
    },
    {
     "data": {
      "text/plain": [
       "(3.66519143172732, 5)"
      ]
     },
     "execution_count": 6,
     "metadata": {},
     "output_type": "execute_result"
    }
   ],
   "source": [
    "i = 0\n",
    "import math\n",
    "\n",
    "\n",
    "def func(x):\n",
    "    global i\n",
    "    i += 1\n",
    "    y = math.sin(x) + 0.5\n",
    "    print(f\"Llamada i={i}\\t x={x:.5f}\\t y={y:.2f}\")\n",
    "    return y\n",
    "\n",
    "\n",
    "secant_method(func, x0=2, x1=3)\n"
   ]
  },
  {
   "cell_type": "markdown",
   "metadata": {},
   "source": [
    "## Pregunta 5"
   ]
  },
  {
   "cell_type": "code",
   "execution_count": 7,
   "metadata": {},
   "outputs": [],
   "source": [
    "def f(x: float, points: list[float] = [], show: bool = False):\n",
    "    y = np.sin(x)\n",
    "    points.append((x, y))\n",
    "    if show:\n",
    "        print(f\"f({x}) = {y}\")\n",
    "    return y"
   ]
  },
  {
   "cell_type": "code",
   "execution_count": 8,
   "metadata": {},
   "outputs": [
    {
     "data": {
      "text/plain": [
       "      converged: True\n",
       "           flag: converged\n",
       " function_calls: 42\n",
       "     iterations: 40\n",
       "           root: 3.1415926535901235\n",
       "         method: bisect"
      ]
     },
     "execution_count": 8,
     "metadata": {},
     "output_type": "execute_result"
    }
   ],
   "source": [
    "x_r,alg_info =optimize.bisect(f,3,5,full_output=True)\n",
    "alg_info"
   ]
  },
  {
   "cell_type": "code",
   "execution_count": 9,
   "metadata": {},
   "outputs": [
    {
     "data": {
      "text/plain": [
       "      converged: True\n",
       "           flag: converged\n",
       " function_calls: 43\n",
       "     iterations: 41\n",
       "           root: 4.547473508864641e-13\n",
       "         method: bisect"
      ]
     },
     "execution_count": 9,
     "metadata": {},
     "output_type": "execute_result"
    }
   ],
   "source": [
    "x_r,alg_info =optimize.bisect(f,-1,2,full_output=True)\n",
    "alg_info"
   ]
  },
  {
   "cell_type": "code",
   "execution_count": 10,
   "metadata": {},
   "outputs": [
    {
     "ename": "ValueError",
     "evalue": "f(a) and f(b) must have different signs",
     "output_type": "error",
     "traceback": [
      "\u001b[1;31m---------------------------------------------------------------------------\u001b[0m",
      "\u001b[1;31mValueError\u001b[0m                                Traceback (most recent call last)",
      "Cell \u001b[1;32mIn[10], line 1\u001b[0m\n\u001b[1;32m----> 1\u001b[0m x_r,alg_info \u001b[38;5;241m=\u001b[39m\u001b[43moptimize\u001b[49m\u001b[38;5;241;43m.\u001b[39;49m\u001b[43mbisect\u001b[49m\u001b[43m(\u001b[49m\u001b[43mf\u001b[49m\u001b[43m,\u001b[49m\u001b[38;5;241;43m-\u001b[39;49m\u001b[38;5;241;43m3.5\u001b[39;49m\u001b[43m,\u001b[49m\u001b[38;5;241;43m3\u001b[39;49m\u001b[43m,\u001b[49m\u001b[43mfull_output\u001b[49m\u001b[38;5;241;43m=\u001b[39;49m\u001b[38;5;28;43;01mTrue\u001b[39;49;00m\u001b[43m,\u001b[49m\u001b[43mdisp\u001b[49m\u001b[38;5;241;43m=\u001b[39;49m\u001b[38;5;28;43;01mFalse\u001b[39;49;00m\u001b[43m)\u001b[49m\n\u001b[0;32m      2\u001b[0m alg_info\n",
      "File \u001b[1;32mc:\\Users\\User\\AppData\\Local\\Programs\\Python\\Python313\\Lib\\site-packages\\scipy\\optimize\\_zeros_py.py:577\u001b[0m, in \u001b[0;36mbisect\u001b[1;34m(f, a, b, args, xtol, rtol, maxiter, full_output, disp)\u001b[0m\n\u001b[0;32m    575\u001b[0m     \u001b[38;5;28;01mraise\u001b[39;00m \u001b[38;5;167;01mValueError\u001b[39;00m(\u001b[38;5;124mf\u001b[39m\u001b[38;5;124m\"\u001b[39m\u001b[38;5;124mrtol too small (\u001b[39m\u001b[38;5;132;01m{\u001b[39;00mrtol\u001b[38;5;132;01m:\u001b[39;00m\u001b[38;5;124mg\u001b[39m\u001b[38;5;132;01m}\u001b[39;00m\u001b[38;5;124m < \u001b[39m\u001b[38;5;132;01m{\u001b[39;00m_rtol\u001b[38;5;132;01m:\u001b[39;00m\u001b[38;5;124mg\u001b[39m\u001b[38;5;132;01m}\u001b[39;00m\u001b[38;5;124m)\u001b[39m\u001b[38;5;124m\"\u001b[39m)\n\u001b[0;32m    576\u001b[0m f \u001b[38;5;241m=\u001b[39m _wrap_nan_raise(f)\n\u001b[1;32m--> 577\u001b[0m r \u001b[38;5;241m=\u001b[39m \u001b[43m_zeros\u001b[49m\u001b[38;5;241;43m.\u001b[39;49m\u001b[43m_bisect\u001b[49m\u001b[43m(\u001b[49m\u001b[43mf\u001b[49m\u001b[43m,\u001b[49m\u001b[43m \u001b[49m\u001b[43ma\u001b[49m\u001b[43m,\u001b[49m\u001b[43m \u001b[49m\u001b[43mb\u001b[49m\u001b[43m,\u001b[49m\u001b[43m \u001b[49m\u001b[43mxtol\u001b[49m\u001b[43m,\u001b[49m\u001b[43m \u001b[49m\u001b[43mrtol\u001b[49m\u001b[43m,\u001b[49m\u001b[43m \u001b[49m\u001b[43mmaxiter\u001b[49m\u001b[43m,\u001b[49m\u001b[43m \u001b[49m\u001b[43margs\u001b[49m\u001b[43m,\u001b[49m\u001b[43m \u001b[49m\u001b[43mfull_output\u001b[49m\u001b[43m,\u001b[49m\u001b[43m \u001b[49m\u001b[43mdisp\u001b[49m\u001b[43m)\u001b[49m\n\u001b[0;32m    578\u001b[0m \u001b[38;5;28;01mreturn\u001b[39;00m results_c(full_output, r, \u001b[38;5;124m\"\u001b[39m\u001b[38;5;124mbisect\u001b[39m\u001b[38;5;124m\"\u001b[39m)\n",
      "\u001b[1;31mValueError\u001b[0m: f(a) and f(b) must have different signs"
     ]
    }
   ],
   "source": [
    "x_r,alg_info =optimize.bisect(f,-3.5,3,full_output=True,disp=False)\n",
    "alg_info"
   ]
  },
  {
   "cell_type": "code",
   "execution_count": 11,
   "metadata": {},
   "outputs": [
    {
     "data": {
      "text/plain": [
       "      converged: True\n",
       "           flag: converged\n",
       " function_calls: 45\n",
       "     iterations: 43\n",
       "           root: 3.1415926535893277\n",
       "         method: bisect"
      ]
     },
     "execution_count": 11,
     "metadata": {},
     "output_type": "execute_result"
    }
   ],
   "source": [
    "x_r,alg_info =optimize.bisect(f,-4,5,disp=False,full_output=True)\n",
    "alg_info"
   ]
  },
  {
   "cell_type": "code",
   "execution_count": 12,
   "metadata": {},
   "outputs": [
    {
     "ename": "ValueError",
     "evalue": "f(a) and f(b) must have different signs",
     "output_type": "error",
     "traceback": [
      "\u001b[1;31m---------------------------------------------------------------------------\u001b[0m",
      "\u001b[1;31mValueError\u001b[0m                                Traceback (most recent call last)",
      "Cell \u001b[1;32mIn[12], line 1\u001b[0m\n\u001b[1;32m----> 1\u001b[0m x_r,alg_info \u001b[38;5;241m=\u001b[39m\u001b[43moptimize\u001b[49m\u001b[38;5;241;43m.\u001b[39;49m\u001b[43mbisect\u001b[49m\u001b[43m(\u001b[49m\u001b[43mf\u001b[49m\u001b[43m,\u001b[49m\u001b[38;5;241;43m-\u001b[39;49m\u001b[38;5;241;43m2.5\u001b[39;49m\u001b[43m,\u001b[49m\u001b[38;5;241;43m-\u001b[39;49m\u001b[38;5;241;43m1\u001b[39;49m\u001b[43m,\u001b[49m\u001b[43mdisp\u001b[49m\u001b[38;5;241;43m=\u001b[39;49m\u001b[38;5;28;43;01mFalse\u001b[39;49;00m\u001b[43m,\u001b[49m\u001b[43mfull_output\u001b[49m\u001b[38;5;241;43m=\u001b[39;49m\u001b[38;5;28;43;01mTrue\u001b[39;49;00m\u001b[43m)\u001b[49m\n\u001b[0;32m      2\u001b[0m alg_info\n",
      "File \u001b[1;32mc:\\Users\\User\\AppData\\Local\\Programs\\Python\\Python313\\Lib\\site-packages\\scipy\\optimize\\_zeros_py.py:577\u001b[0m, in \u001b[0;36mbisect\u001b[1;34m(f, a, b, args, xtol, rtol, maxiter, full_output, disp)\u001b[0m\n\u001b[0;32m    575\u001b[0m     \u001b[38;5;28;01mraise\u001b[39;00m \u001b[38;5;167;01mValueError\u001b[39;00m(\u001b[38;5;124mf\u001b[39m\u001b[38;5;124m\"\u001b[39m\u001b[38;5;124mrtol too small (\u001b[39m\u001b[38;5;132;01m{\u001b[39;00mrtol\u001b[38;5;132;01m:\u001b[39;00m\u001b[38;5;124mg\u001b[39m\u001b[38;5;132;01m}\u001b[39;00m\u001b[38;5;124m < \u001b[39m\u001b[38;5;132;01m{\u001b[39;00m_rtol\u001b[38;5;132;01m:\u001b[39;00m\u001b[38;5;124mg\u001b[39m\u001b[38;5;132;01m}\u001b[39;00m\u001b[38;5;124m)\u001b[39m\u001b[38;5;124m\"\u001b[39m)\n\u001b[0;32m    576\u001b[0m f \u001b[38;5;241m=\u001b[39m _wrap_nan_raise(f)\n\u001b[1;32m--> 577\u001b[0m r \u001b[38;5;241m=\u001b[39m \u001b[43m_zeros\u001b[49m\u001b[38;5;241;43m.\u001b[39;49m\u001b[43m_bisect\u001b[49m\u001b[43m(\u001b[49m\u001b[43mf\u001b[49m\u001b[43m,\u001b[49m\u001b[43m \u001b[49m\u001b[43ma\u001b[49m\u001b[43m,\u001b[49m\u001b[43m \u001b[49m\u001b[43mb\u001b[49m\u001b[43m,\u001b[49m\u001b[43m \u001b[49m\u001b[43mxtol\u001b[49m\u001b[43m,\u001b[49m\u001b[43m \u001b[49m\u001b[43mrtol\u001b[49m\u001b[43m,\u001b[49m\u001b[43m \u001b[49m\u001b[43mmaxiter\u001b[49m\u001b[43m,\u001b[49m\u001b[43m \u001b[49m\u001b[43margs\u001b[49m\u001b[43m,\u001b[49m\u001b[43m \u001b[49m\u001b[43mfull_output\u001b[49m\u001b[43m,\u001b[49m\u001b[43m \u001b[49m\u001b[43mdisp\u001b[49m\u001b[43m)\u001b[49m\n\u001b[0;32m    578\u001b[0m \u001b[38;5;28;01mreturn\u001b[39;00m results_c(full_output, r, \u001b[38;5;124m\"\u001b[39m\u001b[38;5;124mbisect\u001b[39m\u001b[38;5;124m\"\u001b[39m)\n",
      "\u001b[1;31mValueError\u001b[0m: f(a) and f(b) must have different signs"
     ]
    }
   ],
   "source": [
    "x_r,alg_info =optimize.bisect(f,-2.5,-1,disp=False,full_output=True)\n",
    "alg_info"
   ]
  },
  {
   "cell_type": "code",
   "execution_count": 13,
   "metadata": {},
   "outputs": [
    {
     "data": {
      "text/plain": [
       "      converged: True\n",
       "           flag: converged\n",
       " function_calls: 45\n",
       "     iterations: 43\n",
       "           root: -3.1415926535893277\n",
       "         method: bisect"
      ]
     },
     "execution_count": 13,
     "metadata": {},
     "output_type": "execute_result"
    }
   ],
   "source": [
    "x_r,alg_info =optimize.bisect(f,-5,4,disp=False,full_output=True)\n",
    "alg_info"
   ]
  }
 ],
 "metadata": {
  "kernelspec": {
   "display_name": "Python 3",
   "language": "python",
   "name": "python3"
  },
  "language_info": {
   "codemirror_mode": {
    "name": "ipython",
    "version": 3
   },
   "file_extension": ".py",
   "mimetype": "text/x-python",
   "name": "python",
   "nbconvert_exporter": "python",
   "pygments_lexer": "ipython3",
   "version": "3.13.0"
  }
 },
 "nbformat": 4,
 "nbformat_minor": 2
}
